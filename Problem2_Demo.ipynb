{
  "nbformat": 4,
  "nbformat_minor": 0,
  "metadata": {
    "colab": {
      "name": "Problem2 Demo.ipynb",
      "version": "0.3.2",
      "provenance": [],
      "include_colab_link": true
    },
    "kernelspec": {
      "name": "python3",
      "display_name": "Python 3"
    }
  },
  "cells": [
    {
      "cell_type": "markdown",
      "metadata": {
        "id": "view-in-github",
        "colab_type": "text"
      },
      "source": [
        "<a href=\"https://colab.research.google.com/github/YoPogramer/Problem2-Demo/blob/master/Problem2_Demo.ipynb\" target=\"_parent\"><img src=\"https://colab.research.google.com/assets/colab-badge.svg\" alt=\"Open In Colab\"/></a>"
      ]
    },
    {
      "cell_type": "code",
      "metadata": {
        "id": "7Ywr2fcgNTjx",
        "colab_type": "code",
        "colab": {
          "base_uri": "https://localhost:8080/",
          "height": 102
        },
        "outputId": "49d9cb24-866d-453e-f5da-35f435ba8208"
      },
      "source": [
        "!git clone https://github.com/ChanR-Analytics/Week2.git"
      ],
      "execution_count": 1,
      "outputs": [
        {
          "output_type": "stream",
          "text": [
            "Cloning into 'Week2'...\n",
            "remote: Enumerating objects: 188, done.\u001b[K\n",
            "Receiving objects:   0% (1/188)   \rReceiving objects:   1% (2/188)   \rReceiving objects:   2% (4/188)   \rReceiving objects:   3% (6/188)   \rReceiving objects:   4% (8/188)   \rReceiving objects:   5% (10/188)   \rReceiving objects:   6% (12/188)   \rReceiving objects:   7% (14/188)   \rReceiving objects:   8% (16/188)   \rReceiving objects:   9% (17/188)   \rReceiving objects:  10% (19/188)   \rReceiving objects:  11% (21/188)   \rReceiving objects:  12% (23/188)   \rReceiving objects:  13% (25/188)   \rReceiving objects:  14% (27/188)   \rReceiving objects:  15% (29/188)   \rReceiving objects:  16% (31/188)   \rReceiving objects:  17% (32/188)   \rReceiving objects:  18% (34/188)   \rReceiving objects:  19% (36/188)   \rReceiving objects:  20% (38/188)   \rReceiving objects:  21% (40/188)   \rReceiving objects:  22% (42/188)   \rReceiving objects:  23% (44/188)   \rReceiving objects:  24% (46/188)   \rReceiving objects:  25% (47/188)   \rReceiving objects:  26% (49/188)   \rReceiving objects:  27% (51/188)   \rReceiving objects:  28% (53/188)   \rReceiving objects:  29% (55/188)   \rReceiving objects:  30% (57/188)   \rReceiving objects:  31% (59/188)   \rReceiving objects:  32% (61/188)   \rReceiving objects:  33% (63/188)   \rReceiving objects:  34% (64/188)   \rReceiving objects:  35% (66/188)   \rReceiving objects:  36% (68/188)   \rReceiving objects:  37% (70/188)   \rReceiving objects:  38% (72/188)   \rReceiving objects:  39% (74/188)   \rReceiving objects:  40% (76/188)   \rReceiving objects:  41% (78/188)   \rReceiving objects:  42% (79/188)   \rReceiving objects:  43% (81/188)   \rReceiving objects:  44% (83/188)   \rReceiving objects:  45% (85/188)   \rReceiving objects:  46% (87/188)   \rReceiving objects:  47% (89/188)   \rremote: Total 188 (delta 0), reused 0 (delta 0), pack-reused 188\u001b[K\n",
            "Receiving objects:  48% (91/188)   \rReceiving objects:  49% (93/188)   \rReceiving objects:  50% (94/188)   \rReceiving objects:  51% (96/188)   \rReceiving objects:  52% (98/188)   \rReceiving objects:  53% (100/188)   \rReceiving objects:  54% (102/188)   \rReceiving objects:  55% (104/188)   \rReceiving objects:  56% (106/188)   \rReceiving objects:  57% (108/188)   \rReceiving objects:  58% (110/188)   \rReceiving objects:  59% (111/188)   \rReceiving objects:  60% (113/188)   \rReceiving objects:  61% (115/188)   \rReceiving objects:  62% (117/188)   \rReceiving objects:  63% (119/188)   \rReceiving objects:  64% (121/188)   \rReceiving objects:  65% (123/188)   \rReceiving objects:  66% (125/188)   \rReceiving objects:  67% (126/188)   \rReceiving objects:  68% (128/188)   \rReceiving objects:  69% (130/188)   \rReceiving objects:  70% (132/188)   \rReceiving objects:  71% (134/188)   \rReceiving objects:  72% (136/188)   \rReceiving objects:  73% (138/188)   \rReceiving objects:  74% (140/188)   \rReceiving objects:  75% (141/188)   \rReceiving objects:  76% (143/188)   \rReceiving objects:  77% (145/188)   \rReceiving objects:  78% (147/188)   \rReceiving objects:  79% (149/188)   \rReceiving objects:  80% (151/188)   \rReceiving objects:  81% (153/188)   \rReceiving objects:  82% (155/188)   \rReceiving objects:  83% (157/188)   \rReceiving objects:  84% (158/188)   \rReceiving objects:  85% (160/188)   \rReceiving objects:  86% (162/188)   \rReceiving objects:  87% (164/188)   \rReceiving objects:  88% (166/188)   \rReceiving objects:  89% (168/188)   \rReceiving objects:  90% (170/188)   \rReceiving objects:  91% (172/188)   \rReceiving objects:  92% (173/188)   \rReceiving objects:  93% (175/188)   \rReceiving objects:  94% (177/188)   \rReceiving objects:  95% (179/188)   \rReceiving objects:  96% (181/188)   \rReceiving objects:  97% (183/188)   \rReceiving objects:  98% (185/188)   \rReceiving objects:  99% (187/188)   \rReceiving objects: 100% (188/188)   \rReceiving objects: 100% (188/188), 49.81 KiB | 836.00 KiB/s, done.\n",
            "Resolving deltas:   0% (0/78)   \rResolving deltas:   3% (3/78)   \rResolving deltas:  16% (13/78)   \rResolving deltas:  41% (32/78)   \rResolving deltas:  50% (39/78)   \rResolving deltas:  55% (43/78)   \rResolving deltas:  58% (46/78)   \rResolving deltas:  64% (50/78)   \rResolving deltas:  76% (60/78)   \rResolving deltas:  78% (61/78)   \rResolving deltas:  79% (62/78)   \rResolving deltas:  82% (64/78)   \rResolving deltas:  83% (65/78)   \rResolving deltas:  84% (66/78)   \rResolving deltas:  85% (67/78)   \rResolving deltas:  88% (69/78)   \rResolving deltas:  92% (72/78)   \rResolving deltas:  96% (75/78)   \rResolving deltas:  98% (77/78)   \rResolving deltas: 100% (78/78)   \rResolving deltas: 100% (78/78), done.\n"
          ],
          "name": "stdout"
        }
      ]
    },
    {
      "cell_type": "code",
      "metadata": {
        "id": "CbwbFwkANWMO",
        "colab_type": "code",
        "colab": {
          "base_uri": "https://localhost:8080/",
          "height": 34
        },
        "outputId": "2b0f5445-d410-40cb-f09d-47f47c133611"
      },
      "source": [
        "ls\n"
      ],
      "execution_count": 2,
      "outputs": [
        {
          "output_type": "stream",
          "text": [
            "\u001b[0m\u001b[01;34msample_data\u001b[0m/  \u001b[01;34mWeek2\u001b[0m/\n"
          ],
          "name": "stdout"
        }
      ]
    },
    {
      "cell_type": "code",
      "metadata": {
        "id": "YxuG6MKlNaqQ",
        "colab_type": "code",
        "colab": {
          "base_uri": "https://localhost:8080/",
          "height": 34
        },
        "outputId": "17636613-86b6-4855-bb2b-20a6cd475e80"
      },
      "source": [
        "cd Week2"
      ],
      "execution_count": 3,
      "outputs": [
        {
          "output_type": "stream",
          "text": [
            "/content/Week2\n"
          ],
          "name": "stdout"
        }
      ]
    },
    {
      "cell_type": "code",
      "metadata": {
        "id": "u_3Ah_X1NfOC",
        "colab_type": "code",
        "colab": {
          "base_uri": "https://localhost:8080/",
          "height": 51
        },
        "outputId": "2a1e3b6f-6974-4b8f-bd42-ab8cd04dae66"
      },
      "source": [
        "ls\n"
      ],
      "execution_count": 4,
      "outputs": [
        {
          "output_type": "stream",
          "text": [
            "celsius.txt     \u001b[0m\u001b[01;34mFairness_AI_Week2\u001b[0m/  \u001b[01;34mPDS_CI_Week2\u001b[0m/\n",
            "\u001b[01;34mDataFit_Week2\u001b[0m/  \u001b[01;34mGames_RL_Week2\u001b[0m/     README.md\n"
          ],
          "name": "stdout"
        }
      ]
    },
    {
      "cell_type": "code",
      "metadata": {
        "id": "KGP1j2t_NhbF",
        "colab_type": "code",
        "colab": {
          "base_uri": "https://localhost:8080/",
          "height": 2601
        },
        "outputId": "3820c907-ddd7-4cb0-90f4-1590640da0cc"
      },
      "source": [
        "cat celsius.txt"
      ],
      "execution_count": 5,
      "outputs": [
        {
          "output_type": "stream",
          "text": [
            "28.48\n",
            "1.5\n",
            "29.85\n",
            "29.52\n",
            "-9.68\n",
            "-0.06\n",
            "-14.13\n",
            "1.6\n",
            "18.01\n",
            "4.63\n",
            "16.61\n",
            "-10.38\n",
            "-1.6\n",
            "-7.65\n",
            "5.68\n",
            "18.31\n",
            "34.87\n",
            "2.48\n",
            "22.95\n",
            "-15.4\n",
            "-7.56\n",
            "4.79\n",
            "-3.1\n",
            "-19.23\n",
            "33.04\n",
            "2.26\n",
            "29.71\n",
            "-9.17\n",
            "-5.75\n",
            "5.77\n",
            "-6.2\n",
            "4.19\n",
            "-19.73\n",
            "15.86\n",
            "6.26\n",
            "-14.77\n",
            "26.44\n",
            "8.05\n",
            "6.25\n",
            "32.51\n",
            "7.95\n",
            "16.72\n",
            "20.65\n",
            "-15.94\n",
            "-19.98\n",
            "-2.48\n",
            "14.44\n",
            "6.03\n",
            "27.36\n",
            "31.41\n",
            "9.71\n",
            "31.81\n",
            "16.37\n",
            "3.47\n",
            "19.47\n",
            "5.15\n",
            "24.03\n",
            "9.81\n",
            "7.06\n",
            "14.32\n",
            "34.55\n",
            "-9.76\n",
            "34.97\n",
            "22.24\n",
            "-18.86\n",
            "13.48\n",
            "-18.5\n",
            "-14.74\n",
            "12.51\n",
            "9.72\n",
            "-19.36\n",
            "-15.28\n",
            "-1.32\n",
            "7.28\n",
            "14.88\n",
            "7.53\n",
            "-12.77\n",
            "34.97\n",
            "15.04\n",
            "21.73\n",
            "23.2\n",
            "0.87\n",
            "3.3\n",
            "10.33\n",
            "-4.44\n",
            "-2.28\n",
            "21.48\n",
            "-5.31\n",
            "15.98\n",
            "26.74\n",
            "19.21\n",
            "-8.8\n",
            "-14.46\n",
            "-15.48\n",
            "31.72\n",
            "8.72\n",
            "22.17\n",
            "-4.36\n",
            "-11.5\n",
            "-16.57\n",
            "7.26\n",
            "26.27\n",
            "-8.07\n",
            "12.54\n",
            "-15.07\n",
            "8.09\n",
            "23.91\n",
            "-11.29\n",
            "33.08\n",
            "5.08\n",
            "-2.71\n",
            "30.25\n",
            "1.8\n",
            "26.72\n",
            "-3.57\n",
            "28.91\n",
            "12.95\n",
            "22.85\n",
            "-12.07\n",
            "6.89\n",
            "34.31\n",
            "-12.92\n",
            "-7.06\n",
            "9.77\n",
            "18.99\n",
            "9.33\n",
            "6.34\n",
            "-2.8\n",
            "0.55\n",
            "15.57\n",
            "-8.57\n",
            "0.11\n",
            "1.72\n",
            "26.76\n",
            "32.31\n",
            "20.38\n",
            "28.59\n",
            "26.24\n",
            "-12.92\n",
            "-2.8\n",
            "-18.6\n",
            "-11.11\n",
            "-5.99\n",
            "16.18\n",
            "17.38\n",
            "13.71\n",
            "34.89\n",
            "-14.41\n",
            "-2.71\n",
            "10.47\n",
            "28.48\n",
            "28.48\n"
          ],
          "name": "stdout"
        }
      ]
    },
    {
      "cell_type": "code",
      "metadata": {
        "id": "YF2W8-xINt1L",
        "colab_type": "code",
        "colab": {}
      },
      "source": [
        "cfiles = open('celsius.txt','r')"
      ],
      "execution_count": 0,
      "outputs": []
    },
    {
      "cell_type": "code",
      "metadata": {
        "id": "AxlYRU3-ODtz",
        "colab_type": "code",
        "colab": {
          "base_uri": "https://localhost:8080/",
          "height": 34
        },
        "outputId": "34aa0033-f76a-41d7-ed2e-65f22480088e"
      },
      "source": [
        "cfiles"
      ],
      "execution_count": 7,
      "outputs": [
        {
          "output_type": "execute_result",
          "data": {
            "text/plain": [
              "<_io.TextIOWrapper name='celsius.txt' mode='r' encoding='UTF-8'>"
            ]
          },
          "metadata": {
            "tags": []
          },
          "execution_count": 7
        }
      ]
    },
    {
      "cell_type": "code",
      "metadata": {
        "id": "qlnLp_btOGSq",
        "colab_type": "code",
        "colab": {}
      },
      "source": [
        "rclines = []\n",
        "for line in cfiles.readlines():\n",
        "  rclines.append(line)"
      ],
      "execution_count": 0,
      "outputs": []
    },
    {
      "cell_type": "code",
      "metadata": {
        "id": "Y1-H29Z3OVVC",
        "colab_type": "code",
        "colab": {
          "base_uri": "https://localhost:8080/",
          "height": 54
        },
        "outputId": "4640fc09-ddab-41e8-ec4e-344a0b209138"
      },
      "source": [
        "print(rclines)"
      ],
      "execution_count": 14,
      "outputs": [
        {
          "output_type": "stream",
          "text": [
            "['28.48\\n', '1.5\\n', '29.85\\n', '29.52\\n', '-9.68\\n', '-0.06\\n', '-14.13\\n', '1.6\\n', '18.01\\n', '4.63\\n', '16.61\\n', '-10.38\\n', '-1.6\\n', '-7.65\\n', '5.68\\n', '18.31\\n', '34.87\\n', '2.48\\n', '22.95\\n', '-15.4\\n', '-7.56\\n', '4.79\\n', '-3.1\\n', '-19.23\\n', '33.04\\n', '2.26\\n', '29.71\\n', '-9.17\\n', '-5.75\\n', '5.77\\n', '-6.2\\n', '4.19\\n', '-19.73\\n', '15.86\\n', '6.26\\n', '-14.77\\n', '26.44\\n', '8.05\\n', '6.25\\n', '32.51\\n', '7.95\\n', '16.72\\n', '20.65\\n', '-15.94\\n', '-19.98\\n', '-2.48\\n', '14.44\\n', '6.03\\n', '27.36\\n', '31.41\\n', '9.71\\n', '31.81\\n', '16.37\\n', '3.47\\n', '19.47\\n', '5.15\\n', '24.03\\n', '9.81\\n', '7.06\\n', '14.32\\n', '34.55\\n', '-9.76\\n', '34.97\\n', '22.24\\n', '-18.86\\n', '13.48\\n', '-18.5\\n', '-14.74\\n', '12.51\\n', '9.72\\n', '-19.36\\n', '-15.28\\n', '-1.32\\n', '7.28\\n', '14.88\\n', '7.53\\n', '-12.77\\n', '34.97\\n', '15.04\\n', '21.73\\n', '23.2\\n', '0.87\\n', '3.3\\n', '10.33\\n', '-4.44\\n', '-2.28\\n', '21.48\\n', '-5.31\\n', '15.98\\n', '26.74\\n', '19.21\\n', '-8.8\\n', '-14.46\\n', '-15.48\\n', '31.72\\n', '8.72\\n', '22.17\\n', '-4.36\\n', '-11.5\\n', '-16.57\\n', '7.26\\n', '26.27\\n', '-8.07\\n', '12.54\\n', '-15.07\\n', '8.09\\n', '23.91\\n', '-11.29\\n', '33.08\\n', '5.08\\n', '-2.71\\n', '30.25\\n', '1.8\\n', '26.72\\n', '-3.57\\n', '28.91\\n', '12.95\\n', '22.85\\n', '-12.07\\n', '6.89\\n', '34.31\\n', '-12.92\\n', '-7.06\\n', '9.77\\n', '18.99\\n', '9.33\\n', '6.34\\n', '-2.8\\n', '0.55\\n', '15.57\\n', '-8.57\\n', '0.11\\n', '1.72\\n', '26.76\\n', '32.31\\n', '20.38\\n', '28.59\\n', '26.24\\n', '-12.92\\n', '-2.8\\n', '-18.6\\n', '-11.11\\n', '-5.99\\n', '16.18\\n', '17.38\\n', '13.71\\n', '34.89\\n', '-14.41\\n', '-2.71\\n', '10.47\\n', '28.48\\n', '28.48\\n']\n"
          ],
          "name": "stdout"
        }
      ]
    },
    {
      "cell_type": "code",
      "metadata": {
        "id": "pTvP0CIeO7CC",
        "colab_type": "code",
        "colab": {}
      },
      "source": [
        "fT = []\n",
        "for lines in rclines:\n",
        "  r =lines.replace('\\n', '')\n",
        "  fT.append(float(r))"
      ],
      "execution_count": 0,
      "outputs": []
    },
    {
      "cell_type": "code",
      "metadata": {
        "id": "O_l7rRmXQA6j",
        "colab_type": "code",
        "colab": {
          "base_uri": "https://localhost:8080/",
          "height": 54
        },
        "outputId": "43833027-9409-4ce0-ccfe-56b429a4b975"
      },
      "source": [
        "print(fT)"
      ],
      "execution_count": 20,
      "outputs": [
        {
          "output_type": "stream",
          "text": [
            "[28.48, 1.5, 29.85, 29.52, -9.68, -0.06, -14.13, 1.6, 18.01, 4.63, 16.61, -10.38, -1.6, -7.65, 5.68, 18.31, 34.87, 2.48, 22.95, -15.4, -7.56, 4.79, -3.1, -19.23, 33.04, 2.26, 29.71, -9.17, -5.75, 5.77, -6.2, 4.19, -19.73, 15.86, 6.26, -14.77, 26.44, 8.05, 6.25, 32.51, 7.95, 16.72, 20.65, -15.94, -19.98, -2.48, 14.44, 6.03, 27.36, 31.41, 9.71, 31.81, 16.37, 3.47, 19.47, 5.15, 24.03, 9.81, 7.06, 14.32, 34.55, -9.76, 34.97, 22.24, -18.86, 13.48, -18.5, -14.74, 12.51, 9.72, -19.36, -15.28, -1.32, 7.28, 14.88, 7.53, -12.77, 34.97, 15.04, 21.73, 23.2, 0.87, 3.3, 10.33, -4.44, -2.28, 21.48, -5.31, 15.98, 26.74, 19.21, -8.8, -14.46, -15.48, 31.72, 8.72, 22.17, -4.36, -11.5, -16.57, 7.26, 26.27, -8.07, 12.54, -15.07, 8.09, 23.91, -11.29, 33.08, 5.08, -2.71, 30.25, 1.8, 26.72, -3.57, 28.91, 12.95, 22.85, -12.07, 6.89, 34.31, -12.92, -7.06, 9.77, 18.99, 9.33, 6.34, -2.8, 0.55, 15.57, -8.57, 0.11, 1.72, 26.76, 32.31, 20.38, 28.59, 26.24, -12.92, -2.8, -18.6, -11.11, -5.99, 16.18, 17.38, 13.71, 34.89, -14.41, -2.71, 10.47, 28.48, 28.48]\n"
          ],
          "name": "stdout"
        }
      ]
    },
    {
      "cell_type": "code",
      "metadata": {
        "id": "3YyyasUsQCYS",
        "colab_type": "code",
        "colab": {}
      },
      "source": [
        "cdict = {'celsius':fT}\n"
      ],
      "execution_count": 0,
      "outputs": []
    },
    {
      "cell_type": "code",
      "metadata": {
        "id": "PK746oGIQwcc",
        "colab_type": "code",
        "colab": {}
      },
      "source": [
        "import pandas as pd"
      ],
      "execution_count": 0,
      "outputs": []
    },
    {
      "cell_type": "code",
      "metadata": {
        "id": "5Ig2MDb-Qz7Y",
        "colab_type": "code",
        "colab": {
          "base_uri": "https://localhost:8080/",
          "height": 1969
        },
        "outputId": "ae5b489e-adc1-4ddb-8ce0-287f87d5b5ea"
      },
      "source": [
        "x = pd.DataFrame.from_dict(cdict)\n",
        "x.head(100)"
      ],
      "execution_count": 23,
      "outputs": [
        {
          "output_type": "execute_result",
          "data": {
            "text/html": [
              "<div>\n",
              "<style scoped>\n",
              "    .dataframe tbody tr th:only-of-type {\n",
              "        vertical-align: middle;\n",
              "    }\n",
              "\n",
              "    .dataframe tbody tr th {\n",
              "        vertical-align: top;\n",
              "    }\n",
              "\n",
              "    .dataframe thead th {\n",
              "        text-align: right;\n",
              "    }\n",
              "</style>\n",
              "<table border=\"1\" class=\"dataframe\">\n",
              "  <thead>\n",
              "    <tr style=\"text-align: right;\">\n",
              "      <th></th>\n",
              "      <th>celsius</th>\n",
              "    </tr>\n",
              "  </thead>\n",
              "  <tbody>\n",
              "    <tr>\n",
              "      <th>0</th>\n",
              "      <td>28.48</td>\n",
              "    </tr>\n",
              "    <tr>\n",
              "      <th>1</th>\n",
              "      <td>1.50</td>\n",
              "    </tr>\n",
              "    <tr>\n",
              "      <th>2</th>\n",
              "      <td>29.85</td>\n",
              "    </tr>\n",
              "    <tr>\n",
              "      <th>3</th>\n",
              "      <td>29.52</td>\n",
              "    </tr>\n",
              "    <tr>\n",
              "      <th>4</th>\n",
              "      <td>-9.68</td>\n",
              "    </tr>\n",
              "    <tr>\n",
              "      <th>5</th>\n",
              "      <td>-0.06</td>\n",
              "    </tr>\n",
              "    <tr>\n",
              "      <th>6</th>\n",
              "      <td>-14.13</td>\n",
              "    </tr>\n",
              "    <tr>\n",
              "      <th>7</th>\n",
              "      <td>1.60</td>\n",
              "    </tr>\n",
              "    <tr>\n",
              "      <th>8</th>\n",
              "      <td>18.01</td>\n",
              "    </tr>\n",
              "    <tr>\n",
              "      <th>9</th>\n",
              "      <td>4.63</td>\n",
              "    </tr>\n",
              "    <tr>\n",
              "      <th>10</th>\n",
              "      <td>16.61</td>\n",
              "    </tr>\n",
              "    <tr>\n",
              "      <th>11</th>\n",
              "      <td>-10.38</td>\n",
              "    </tr>\n",
              "    <tr>\n",
              "      <th>12</th>\n",
              "      <td>-1.60</td>\n",
              "    </tr>\n",
              "    <tr>\n",
              "      <th>13</th>\n",
              "      <td>-7.65</td>\n",
              "    </tr>\n",
              "    <tr>\n",
              "      <th>14</th>\n",
              "      <td>5.68</td>\n",
              "    </tr>\n",
              "    <tr>\n",
              "      <th>15</th>\n",
              "      <td>18.31</td>\n",
              "    </tr>\n",
              "    <tr>\n",
              "      <th>16</th>\n",
              "      <td>34.87</td>\n",
              "    </tr>\n",
              "    <tr>\n",
              "      <th>17</th>\n",
              "      <td>2.48</td>\n",
              "    </tr>\n",
              "    <tr>\n",
              "      <th>18</th>\n",
              "      <td>22.95</td>\n",
              "    </tr>\n",
              "    <tr>\n",
              "      <th>19</th>\n",
              "      <td>-15.40</td>\n",
              "    </tr>\n",
              "    <tr>\n",
              "      <th>20</th>\n",
              "      <td>-7.56</td>\n",
              "    </tr>\n",
              "    <tr>\n",
              "      <th>21</th>\n",
              "      <td>4.79</td>\n",
              "    </tr>\n",
              "    <tr>\n",
              "      <th>22</th>\n",
              "      <td>-3.10</td>\n",
              "    </tr>\n",
              "    <tr>\n",
              "      <th>23</th>\n",
              "      <td>-19.23</td>\n",
              "    </tr>\n",
              "    <tr>\n",
              "      <th>24</th>\n",
              "      <td>33.04</td>\n",
              "    </tr>\n",
              "    <tr>\n",
              "      <th>25</th>\n",
              "      <td>2.26</td>\n",
              "    </tr>\n",
              "    <tr>\n",
              "      <th>26</th>\n",
              "      <td>29.71</td>\n",
              "    </tr>\n",
              "    <tr>\n",
              "      <th>27</th>\n",
              "      <td>-9.17</td>\n",
              "    </tr>\n",
              "    <tr>\n",
              "      <th>28</th>\n",
              "      <td>-5.75</td>\n",
              "    </tr>\n",
              "    <tr>\n",
              "      <th>29</th>\n",
              "      <td>5.77</td>\n",
              "    </tr>\n",
              "    <tr>\n",
              "      <th>...</th>\n",
              "      <td>...</td>\n",
              "    </tr>\n",
              "    <tr>\n",
              "      <th>70</th>\n",
              "      <td>-19.36</td>\n",
              "    </tr>\n",
              "    <tr>\n",
              "      <th>71</th>\n",
              "      <td>-15.28</td>\n",
              "    </tr>\n",
              "    <tr>\n",
              "      <th>72</th>\n",
              "      <td>-1.32</td>\n",
              "    </tr>\n",
              "    <tr>\n",
              "      <th>73</th>\n",
              "      <td>7.28</td>\n",
              "    </tr>\n",
              "    <tr>\n",
              "      <th>74</th>\n",
              "      <td>14.88</td>\n",
              "    </tr>\n",
              "    <tr>\n",
              "      <th>75</th>\n",
              "      <td>7.53</td>\n",
              "    </tr>\n",
              "    <tr>\n",
              "      <th>76</th>\n",
              "      <td>-12.77</td>\n",
              "    </tr>\n",
              "    <tr>\n",
              "      <th>77</th>\n",
              "      <td>34.97</td>\n",
              "    </tr>\n",
              "    <tr>\n",
              "      <th>78</th>\n",
              "      <td>15.04</td>\n",
              "    </tr>\n",
              "    <tr>\n",
              "      <th>79</th>\n",
              "      <td>21.73</td>\n",
              "    </tr>\n",
              "    <tr>\n",
              "      <th>80</th>\n",
              "      <td>23.20</td>\n",
              "    </tr>\n",
              "    <tr>\n",
              "      <th>81</th>\n",
              "      <td>0.87</td>\n",
              "    </tr>\n",
              "    <tr>\n",
              "      <th>82</th>\n",
              "      <td>3.30</td>\n",
              "    </tr>\n",
              "    <tr>\n",
              "      <th>83</th>\n",
              "      <td>10.33</td>\n",
              "    </tr>\n",
              "    <tr>\n",
              "      <th>84</th>\n",
              "      <td>-4.44</td>\n",
              "    </tr>\n",
              "    <tr>\n",
              "      <th>85</th>\n",
              "      <td>-2.28</td>\n",
              "    </tr>\n",
              "    <tr>\n",
              "      <th>86</th>\n",
              "      <td>21.48</td>\n",
              "    </tr>\n",
              "    <tr>\n",
              "      <th>87</th>\n",
              "      <td>-5.31</td>\n",
              "    </tr>\n",
              "    <tr>\n",
              "      <th>88</th>\n",
              "      <td>15.98</td>\n",
              "    </tr>\n",
              "    <tr>\n",
              "      <th>89</th>\n",
              "      <td>26.74</td>\n",
              "    </tr>\n",
              "    <tr>\n",
              "      <th>90</th>\n",
              "      <td>19.21</td>\n",
              "    </tr>\n",
              "    <tr>\n",
              "      <th>91</th>\n",
              "      <td>-8.80</td>\n",
              "    </tr>\n",
              "    <tr>\n",
              "      <th>92</th>\n",
              "      <td>-14.46</td>\n",
              "    </tr>\n",
              "    <tr>\n",
              "      <th>93</th>\n",
              "      <td>-15.48</td>\n",
              "    </tr>\n",
              "    <tr>\n",
              "      <th>94</th>\n",
              "      <td>31.72</td>\n",
              "    </tr>\n",
              "    <tr>\n",
              "      <th>95</th>\n",
              "      <td>8.72</td>\n",
              "    </tr>\n",
              "    <tr>\n",
              "      <th>96</th>\n",
              "      <td>22.17</td>\n",
              "    </tr>\n",
              "    <tr>\n",
              "      <th>97</th>\n",
              "      <td>-4.36</td>\n",
              "    </tr>\n",
              "    <tr>\n",
              "      <th>98</th>\n",
              "      <td>-11.50</td>\n",
              "    </tr>\n",
              "    <tr>\n",
              "      <th>99</th>\n",
              "      <td>-16.57</td>\n",
              "    </tr>\n",
              "  </tbody>\n",
              "</table>\n",
              "<p>100 rows × 1 columns</p>\n",
              "</div>"
            ],
            "text/plain": [
              "    celsius\n",
              "0     28.48\n",
              "1      1.50\n",
              "2     29.85\n",
              "3     29.52\n",
              "4     -9.68\n",
              "5     -0.06\n",
              "6    -14.13\n",
              "7      1.60\n",
              "8     18.01\n",
              "9      4.63\n",
              "10    16.61\n",
              "11   -10.38\n",
              "12    -1.60\n",
              "13    -7.65\n",
              "14     5.68\n",
              "15    18.31\n",
              "16    34.87\n",
              "17     2.48\n",
              "18    22.95\n",
              "19   -15.40\n",
              "20    -7.56\n",
              "21     4.79\n",
              "22    -3.10\n",
              "23   -19.23\n",
              "24    33.04\n",
              "25     2.26\n",
              "26    29.71\n",
              "27    -9.17\n",
              "28    -5.75\n",
              "29     5.77\n",
              "..      ...\n",
              "70   -19.36\n",
              "71   -15.28\n",
              "72    -1.32\n",
              "73     7.28\n",
              "74    14.88\n",
              "75     7.53\n",
              "76   -12.77\n",
              "77    34.97\n",
              "78    15.04\n",
              "79    21.73\n",
              "80    23.20\n",
              "81     0.87\n",
              "82     3.30\n",
              "83    10.33\n",
              "84    -4.44\n",
              "85    -2.28\n",
              "86    21.48\n",
              "87    -5.31\n",
              "88    15.98\n",
              "89    26.74\n",
              "90    19.21\n",
              "91    -8.80\n",
              "92   -14.46\n",
              "93   -15.48\n",
              "94    31.72\n",
              "95     8.72\n",
              "96    22.17\n",
              "97    -4.36\n",
              "98   -11.50\n",
              "99   -16.57\n",
              "\n",
              "[100 rows x 1 columns]"
            ]
          },
          "metadata": {
            "tags": []
          },
          "execution_count": 23
        }
      ]
    },
    {
      "cell_type": "code",
      "metadata": {
        "id": "2P8iOcpwRQ2o",
        "colab_type": "code",
        "colab": {
          "base_uri": "https://localhost:8080/",
          "height": 1071
        },
        "outputId": "5bf48042-83d2-493d-a256-0e8abd3ce328"
      },
      "source": [
        "tempfar = 1.8*x['celsius'] + 32\n",
        "tempfar = round(tempfar,2)\n",
        "print(tempfar)"
      ],
      "execution_count": 25,
      "outputs": [
        {
          "output_type": "stream",
          "text": [
            "0      83.26\n",
            "1      34.70\n",
            "2      85.73\n",
            "3      85.14\n",
            "4      14.58\n",
            "5      31.89\n",
            "6       6.57\n",
            "7      34.88\n",
            "8      64.42\n",
            "9      40.33\n",
            "10     61.90\n",
            "11     13.32\n",
            "12     29.12\n",
            "13     18.23\n",
            "14     42.22\n",
            "15     64.96\n",
            "16     94.77\n",
            "17     36.46\n",
            "18     73.31\n",
            "19      4.28\n",
            "20     18.39\n",
            "21     40.62\n",
            "22     26.42\n",
            "23     -2.61\n",
            "24     91.47\n",
            "25     36.07\n",
            "26     85.48\n",
            "27     15.49\n",
            "28     21.65\n",
            "29     42.39\n",
            "       ...  \n",
            "122    19.29\n",
            "123    49.59\n",
            "124    66.18\n",
            "125    48.79\n",
            "126    43.41\n",
            "127    26.96\n",
            "128    32.99\n",
            "129    60.03\n",
            "130    16.57\n",
            "131    32.20\n",
            "132    35.10\n",
            "133    80.17\n",
            "134    90.16\n",
            "135    68.68\n",
            "136    83.46\n",
            "137    79.23\n",
            "138     8.74\n",
            "139    26.96\n",
            "140    -1.48\n",
            "141    12.00\n",
            "142    21.22\n",
            "143    61.12\n",
            "144    63.28\n",
            "145    56.68\n",
            "146    94.80\n",
            "147     6.06\n",
            "148    27.12\n",
            "149    50.85\n",
            "150    83.26\n",
            "151    83.26\n",
            "Name: celsius, Length: 152, dtype: float64\n"
          ],
          "name": "stdout"
        }
      ]
    },
    {
      "cell_type": "code",
      "metadata": {
        "id": "8NKdwjDNSGab",
        "colab_type": "code",
        "colab": {}
      },
      "source": [
        "x['fahrenheit'] = tempfar"
      ],
      "execution_count": 0,
      "outputs": []
    },
    {
      "cell_type": "code",
      "metadata": {
        "id": "81PwnRDwS3m9",
        "colab_type": "code",
        "colab": {
          "base_uri": "https://localhost:8080/",
          "height": 204
        },
        "outputId": "c64d25d6-ef57-4f04-b12a-5108d6d69f4f"
      },
      "source": [
        "x.head()"
      ],
      "execution_count": 27,
      "outputs": [
        {
          "output_type": "execute_result",
          "data": {
            "text/html": [
              "<div>\n",
              "<style scoped>\n",
              "    .dataframe tbody tr th:only-of-type {\n",
              "        vertical-align: middle;\n",
              "    }\n",
              "\n",
              "    .dataframe tbody tr th {\n",
              "        vertical-align: top;\n",
              "    }\n",
              "\n",
              "    .dataframe thead th {\n",
              "        text-align: right;\n",
              "    }\n",
              "</style>\n",
              "<table border=\"1\" class=\"dataframe\">\n",
              "  <thead>\n",
              "    <tr style=\"text-align: right;\">\n",
              "      <th></th>\n",
              "      <th>celsius</th>\n",
              "      <th>fahrenheit</th>\n",
              "    </tr>\n",
              "  </thead>\n",
              "  <tbody>\n",
              "    <tr>\n",
              "      <th>0</th>\n",
              "      <td>28.48</td>\n",
              "      <td>83.26</td>\n",
              "    </tr>\n",
              "    <tr>\n",
              "      <th>1</th>\n",
              "      <td>1.50</td>\n",
              "      <td>34.70</td>\n",
              "    </tr>\n",
              "    <tr>\n",
              "      <th>2</th>\n",
              "      <td>29.85</td>\n",
              "      <td>85.73</td>\n",
              "    </tr>\n",
              "    <tr>\n",
              "      <th>3</th>\n",
              "      <td>29.52</td>\n",
              "      <td>85.14</td>\n",
              "    </tr>\n",
              "    <tr>\n",
              "      <th>4</th>\n",
              "      <td>-9.68</td>\n",
              "      <td>14.58</td>\n",
              "    </tr>\n",
              "  </tbody>\n",
              "</table>\n",
              "</div>"
            ],
            "text/plain": [
              "   celsius  fahrenheit\n",
              "0    28.48       83.26\n",
              "1     1.50       34.70\n",
              "2    29.85       85.73\n",
              "3    29.52       85.14\n",
              "4    -9.68       14.58"
            ]
          },
          "metadata": {
            "tags": []
          },
          "execution_count": 27
        }
      ]
    },
    {
      "cell_type": "code",
      "metadata": {
        "id": "35X6NnLzS8iM",
        "colab_type": "code",
        "colab": {
          "base_uri": "https://localhost:8080/",
          "height": 34
        },
        "outputId": "52c1748a-e095-46ba-fa7d-0d00f9d22890"
      },
      "source": [
        "cd .."
      ],
      "execution_count": 28,
      "outputs": [
        {
          "output_type": "stream",
          "text": [
            "/content\n"
          ],
          "name": "stdout"
        }
      ]
    },
    {
      "cell_type": "code",
      "metadata": {
        "id": "tqe_p2_6TN8M",
        "colab_type": "code",
        "colab": {
          "base_uri": "https://localhost:8080/",
          "height": 34
        },
        "outputId": "c4bdee45-6632-4c53-8632-2026c8275555"
      },
      "source": [
        "ls\n"
      ],
      "execution_count": 29,
      "outputs": [
        {
          "output_type": "stream",
          "text": [
            "\u001b[0m\u001b[01;34msample_data\u001b[0m/  \u001b[01;34mWeek2\u001b[0m/\n"
          ],
          "name": "stdout"
        }
      ]
    },
    {
      "cell_type": "code",
      "metadata": {
        "id": "t2rOMCDYTQNV",
        "colab_type": "code",
        "colab": {}
      },
      "source": [
        "!rm -rf Week2"
      ],
      "execution_count": 0,
      "outputs": []
    },
    {
      "cell_type": "code",
      "metadata": {
        "id": "qgkqW84pThGC",
        "colab_type": "code",
        "colab": {
          "base_uri": "https://localhost:8080/",
          "height": 34
        },
        "outputId": "90bbd19e-1cfc-4b2a-e695-6a21e0b52a62"
      },
      "source": [
        "ls\n"
      ],
      "execution_count": 31,
      "outputs": [
        {
          "output_type": "stream",
          "text": [
            "\u001b[0m\u001b[01;34msample_data\u001b[0m/\n"
          ],
          "name": "stdout"
        }
      ]
    },
    {
      "cell_type": "code",
      "metadata": {
        "id": "XmJ52WE-Tj-Z",
        "colab_type": "code",
        "colab": {}
      },
      "source": [
        ""
      ],
      "execution_count": 0,
      "outputs": []
    }
  ]
}